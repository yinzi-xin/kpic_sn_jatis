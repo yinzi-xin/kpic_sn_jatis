{
 "cells": [
  {
   "cell_type": "code",
   "execution_count": 2,
   "id": "4a315eff",
   "metadata": {},
   "outputs": [],
   "source": [
    "import numpy as np\n",
    "import matplotlib.pyplot as plt\n",
    "from astropy.io import fits\n",
    "import glob"
   ]
  },
  {
   "cell_type": "code",
   "execution_count": 89,
   "id": "01842657",
   "metadata": {},
   "outputs": [
    {
     "data": {
      "text/plain": [
       "(0.0, 0.001)"
      ]
     },
     "execution_count": 89,
     "metadata": {},
     "output_type": "execute_result"
    },
    {
     "data": {
      "image/png": "[encoded data removed]",
      "text/plain": [
       "<Figure size 432x288 with 1 Axes>"
      ]
     },
     "metadata": {
      "needs_background": "light"
     },
     "output_type": "display_data"
    }
   ],
   "source": [
    "fdir_seq = 'sequence/fluxes/'\n",
    "flist = glob.glob(fdir_seq+\"*.fits\")\n",
    "\n",
    "itimes = []\n",
    "seq_data = []\n",
    "fnums_seq = []\n",
    "for file in flist:\n",
    "    hdr = fits.getheader(file)\n",
    "    itimes.append(hdr['TRUITIME'])\n",
    "    fnums_seq.append(hdr['FRAMENUM'])\n",
    "    seq_data.append(fits.getdata(file))\n",
    "    \n",
    "itimes = np.array(itimes)\n",
    "fnums_seq = np.array(fnums_seq)\n",
    "seq_data = np.squeeze(np.array(seq_data))\n",
    "o2_flux = seq_data[:,2]\n",
    "o2_rc = np.nansum(o2_flux,axis=1)/itimes/oa_flux\n",
    "\n",
    "idcs = np.argsort(fnums_seq)\n",
    "fnums_sort = fnums_seq[idcs]\n",
    "o2_rc = o2_rc[idcs]\n",
    "\n",
    "plt.figure()\n",
    "plt.scatter(fnums_sort,o2_rc)\n",
    "plt.xlim([175,190])\n",
    "plt.ylim([0,1e-3])"
   ]
  },
  {
   "cell_type": "code",
   "execution_count": null,
   "id": "c27f0384",
   "metadata": {},
   "outputs": [],
   "source": []
  },
  {
   "cell_type": "code",
   "execution_count": null,
   "id": "abd399cf",
   "metadata": {},
   "outputs": [],
   "source": []
  }
 ],
 "metadata": {
  "kernelspec": {
   "display_name": "Python 3 (ipykernel)",
   "language": "python",
   "name": "python3"
  },
  "language_info": {
   "codemirror_mode": {
    "name": "ipython",
    "version": 3
   },
   "file_extension": ".py",
   "mimetype": "text/x-python",
   "name": "python",
   "nbconvert_exporter": "python",
   "pygments_lexer": "ipython3",
   "version": "3.9.7"
  }
 },
 "nbformat": 4,
 "nbformat_minor": 5
}
